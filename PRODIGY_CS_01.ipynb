{
  "nbformat": 4,
  "nbformat_minor": 0,
  "metadata": {
    "colab": {
      "provenance": []
    },
    "kernelspec": {
      "name": "python3",
      "display_name": "Python 3"
    },
    "language_info": {
      "name": "python"
    }
  },
  "cells": [
    {
      "cell_type": "code",
      "execution_count": 1,
      "metadata": {
        "colab": {
          "base_uri": "https://localhost:8080/"
        },
        "id": "ZrcnKu7x6fP6",
        "outputId": "6c0ccf74-49ba-4699-d2b0-4212cb2e4841"
      },
      "outputs": [
        {
          "output_type": "stream",
          "name": "stdout",
          "text": [
            "Do you want to (e)ncrypt or (d)ecrypt a message? e\n",
            "Enter your message: hello\n",
            "Enter the shift value: 5\n",
            "Encrypted message: mjqqt\n"
          ]
        }
      ],
      "source": [
        "def caesar_cipher_encrypt(text, shift):\n",
        "    encrypted_text = \"\"\n",
        "    for char in text:\n",
        "        if char.isalpha():\n",
        "            shift_base = 65 if char.isupper() else 97\n",
        "            encrypted_text += chr((ord(char) - shift_base + shift) % 26 + shift_base)\n",
        "        else:\n",
        "            encrypted_text += char\n",
        "    return encrypted_text\n",
        "def caesar_cipher_decrypt(text, shift):\n",
        "    decrypted_text = \"\"\n",
        "    for char in text:\n",
        "        if char.isalpha():\n",
        "            shift_base = 65 if char.isupper() else 97\n",
        "            decrypted_text += chr((ord(char) - shift_base - shift) % 26 + shift_base)\n",
        "        else:\n",
        "            decrypted_text += char\n",
        "    return decrypted_text\n",
        "def main():\n",
        "    choice = input(\"Do you want to (e)ncrypt or (d)ecrypt a message? \")\n",
        "    if choice.lower() not in ['e', 'd']:\n",
        "        print(\"Invalid choice! Please select 'e' to encrypt or 'd' to decrypt.\")\n",
        "        return\n",
        "    message = input(\"Enter your message: \")\n",
        "    shift = int(input(\"Enter the shift value: \"))\n",
        "    if choice.lower() == 'e':\n",
        "        encrypted_message = caesar_cipher_encrypt(message, shift)\n",
        "        print(f\"Encrypted message: {encrypted_message}\")\n",
        "    elif choice.lower() == 'd':\n",
        "        decrypted_message = caesar_cipher_decrypt(message, shift)\n",
        "        print(f\"Decrypted message: {decrypted_message}\")\n",
        "if __name__ == \"__main__\":\n",
        "    main()\n"
      ]
    },
    {
      "cell_type": "code",
      "execution_count": 4,
      "metadata": {
        "colab": {
          "base_uri": "https://localhost:8080/"
        },
        "outputId": "705b7b41-03bf-49d7-ac14-ee7d83160046",
        "id": "_ec4eLdb7Gsa"
      },
      "outputs": [
        {
          "output_type": "stream",
          "name": "stdout",
          "text": [
            "Do you want to (e)ncrypt or (d)ecrypt a message? d\n",
            "Enter your message: mjqqt\n",
            "Enter the shift value: 5\n",
            "Decrypted message: hello\n"
          ]
        }
      ],
      "source": [
        "def caesar_cipher_encrypt(text, shift):\n",
        "  encrypted_text = \"\"\n",
        "  for char in text:\n",
        "    if char.isalpha():\n",
        "      shift_base = 65 if char.isupper() else 97\n",
        "      encrypted_text += chr((ord(char) - shift_base + shift) % 26 + shift_base)\n",
        "    else:\n",
        "            encrypted_text += char\n",
        "    return encrypted_text\n",
        "def caesar_cipher_decrypt(text, shift):\n",
        "    decrypted_text = \"\"\n",
        "    for char in text:\n",
        "      if char.isalpha():\n",
        "            shift_base = 65 if char.isupper() else 97\n",
        "            decrypted_text += chr((ord(char) - shift_base - shift) % 26 + shift_base)\n",
        "      else:\n",
        "            decrypted_text += char\n",
        "    return decrypted_text\n",
        "def main():\n",
        "    choice = input(\"Do you want to (e)ncrypt or (d)ecrypt a message? \")\n",
        "    if choice.lower() not in ['e', 'd']:\n",
        "        print(\"Invalid choice! Please select 'e' to encrypt or 'd' to decrypt.\")\n",
        "        return\n",
        "    message = input(\"Enter your message: \")\n",
        "    shift = int(input(\"Enter the shift value: \"))\n",
        "    if choice.lower() == 'e':\n",
        "        encrypted_message = caesar_cipher_encrypt(message, shift)\n",
        "        print(f\"Encrypted message: {encrypted_message}\")\n",
        "    elif choice.lower() == 'd':\n",
        "        decrypted_message = caesar_cipher_decrypt(message, shift)\n",
        "        print(f\"Decrypted message: {decrypted_message}\")\n",
        "if __name__ == \"__main__\":\n",
        "    main()\n"
      ]
    },
    {
      "cell_type": "code",
      "source": [],
      "metadata": {
        "id": "47F2ldyG7HAY"
      },
      "execution_count": null,
      "outputs": []
    }
  ]
}